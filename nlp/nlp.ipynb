{
  "nbformat": 4,
  "nbformat_minor": 0,
  "metadata": {
    "colab": {
      "provenance": []
    },
    "kernelspec": {
      "name": "python3",
      "display_name": "Python 3"
    },
    "language_info": {
      "name": "python"
    }
  },
  "cells": [
    {
      "cell_type": "code",
      "execution_count": 1,
      "metadata": {
        "id": "hm43Lbw41tOj"
      },
      "outputs": [],
      "source": [
        "import pandas as pd\n",
        "import numpy as np\n"
      ]
    },
    {
      "cell_type": "code",
      "source": [
        "data = pd.read_csv(r'gender-classifier-DFE-791531.csv', encoding='latin1')\n",
        "data.head()"
      ],
      "metadata": {
        "id": "wDHg75-X2gVe"
      },
      "execution_count": null,
      "outputs": []
    },
    {
      "cell_type": "code",
      "source": [
        "data = pd.concat([data.gender, data.description], axis = 1)"
      ],
      "metadata": {
        "id": "Xtc5ahWe2qjs"
      },
      "execution_count": 5,
      "outputs": []
    },
    {
      "cell_type": "code",
      "source": [
        "data.head()"
      ],
      "metadata": {
        "id": "rYYl9G8f3Gaa"
      },
      "execution_count": null,
      "outputs": []
    },
    {
      "cell_type": "code",
      "source": [
        "data.dropna(inplace=True, axis=0)"
      ],
      "metadata": {
        "id": "AfGrDbrL3Hjt"
      },
      "execution_count": 7,
      "outputs": []
    },
    {
      "cell_type": "code",
      "source": [
        "data.info()"
      ],
      "metadata": {
        "id": "21UWq8pe3PwE"
      },
      "execution_count": null,
      "outputs": []
    },
    {
      "cell_type": "code",
      "source": [
        "data.gender =[1 if each == 'female' else 0 for each in data.gender]"
      ],
      "metadata": {
        "id": "K3kJfepe3Q9c"
      },
      "execution_count": 9,
      "outputs": []
    },
    {
      "cell_type": "code",
      "source": [
        "import re"
      ],
      "metadata": {
        "id": "7rZPaOsI3kxN"
      },
      "execution_count": 11,
      "outputs": []
    },
    {
      "cell_type": "code",
      "source": [
        "import nltk as nlp\n",
        "nlp.download('stopwords')\n",
        "from nltk.corpus import stopwords"
      ],
      "metadata": {
        "id": "JKJycowA4c69"
      },
      "execution_count": null,
      "outputs": []
    },
    {
      "cell_type": "code",
      "source": [
        "description_list = []\n",
        "for description in data.description:\n",
        "  description = re.sub('[^a-zA-Z]', ' ', description)\n",
        "  description = description.lower()\n",
        "  description = nlp.word_tokenize(description)\n",
        "  description = [word for word in description if not word in set(stopwords.words('english'))]\n",
        "  lemma = nlp.WordNetLemmatizer()\n",
        "  description = [lemma.lemmatize(word) for word in description]\n",
        "  description = \" \".join(description)\n",
        "  description_list.append(description)"
      ],
      "metadata": {
        "id": "O5xtgTrF7M3s"
      },
      "execution_count": null,
      "outputs": []
    },
    {
      "cell_type": "code",
      "source": [
        "from sklearn.feature_extraction.text import CountVectorizer #bag of words için"
      ],
      "metadata": {
        "id": "cacNA8po7vd3"
      },
      "execution_count": 39,
      "outputs": []
    },
    {
      "cell_type": "code",
      "source": [
        "max_features = 500 #çıkan featurlardan en çok kullanılan 500'ü"
      ],
      "metadata": {
        "id": "xML8Bm_V9HnS"
      },
      "execution_count": 40,
      "outputs": []
    },
    {
      "cell_type": "code",
      "source": [
        "count_vectorizer = CountVectorizer(max_features = max_features, stop_words = 'english', lowercase=True)\n",
        "\n",
        "#re için token_pattern parametresi de kullanılabilir"
      ],
      "metadata": {
        "id": "BudkYSfJ9Spf"
      },
      "execution_count": 41,
      "outputs": []
    },
    {
      "cell_type": "code",
      "source": [
        "sparce_matrix = count_vectorizer.fit_transform(description_list).toarray()"
      ],
      "metadata": {
        "id": "YvNzkdF99TRK"
      },
      "execution_count": null,
      "outputs": []
    },
    {
      "cell_type": "code",
      "source": [
        "print(\"en sık kullanılan {} kelimeler {}\".format(max_features, count_vectorizer.get_feature_names()))"
      ],
      "metadata": {
        "id": "_YrgyZ1Q9wAW"
      },
      "execution_count": null,
      "outputs": []
    }
  ]
}